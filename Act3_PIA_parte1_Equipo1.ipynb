{
  "nbformat": 4,
  "nbformat_minor": 0,
  "metadata": {
    "colab": {
      "name": "Act3_PIA_parte1_Equipo1.ipynb",
      "provenance": [],
      "authorship_tag": "ABX9TyP8BJg+6dFIaf3K5axXBjyE",
      "include_colab_link": true
    },
    "kernelspec": {
      "name": "python3",
      "display_name": "Python 3"
    },
    "language_info": {
      "name": "python"
    }
  },
  "cells": [
    {
      "cell_type": "markdown",
      "metadata": {
        "id": "view-in-github",
        "colab_type": "text"
      },
      "source": [
        "<a href=\"https://colab.research.google.com/github/Kevin-MonSa/IAyRN-Veranos-2022/blob/main/Act3_PIA_parte1_Equipo1.ipynb\" target=\"_parent\"><img src=\"https://colab.research.google.com/assets/colab-badge.svg\" alt=\"Open In Colab\"/></a>"
      ]
    },
    {
      "cell_type": "code",
      "execution_count": 5,
      "metadata": {
        "id": "qENkLqUyBU50"
      },
      "outputs": [],
      "source": [
        "import cv2\n",
        "import matplotlib.pyplot as plt\n",
        "import glob "
      ]
    },
    {
      "cell_type": "code",
      "source": [
        "file = '/content/Numeros'\n",
        "image_array = []\n",
        "for images in glob.iglob(f'{file}/*'):\n",
        "  test_image = cv2.imread(images, cv2.IMREAD_GRAYSCALE )\n",
        "  img_resized = cv2.resize(test_image, (28,28), interpolation=cv2.INTER_LINEAR)\n",
        "  image_array.append(img_resized)\n",
        "\n",
        "# plt.imshow(test_image, cmap='gray')"
      ],
      "metadata": {
        "id": "krzaZ7kGbhSR"
      },
      "execution_count": 12,
      "outputs": []
    },
    {
      "cell_type": "code",
      "source": [
        "len(image_array)"
      ],
      "metadata": {
        "colab": {
          "base_uri": "https://localhost:8080/"
        },
        "id": "bwW7p2-9qeGa",
        "outputId": "fbf2af9b-dfb7-47fd-b131-e6bf09127576"
      },
      "execution_count": 13,
      "outputs": [
        {
          "output_type": "execute_result",
          "data": {
            "text/plain": [
              "300"
            ]
          },
          "metadata": {},
          "execution_count": 13
        }
      ]
    },
    {
      "cell_type": "code",
      "source": [
        "plt.imshow(image_array[299], cmap='gray')"
      ],
      "metadata": {
        "colab": {
          "base_uri": "https://localhost:8080/",
          "height": 282
        },
        "id": "VeGpmeEYqrE7",
        "outputId": "7c473f44-bb8d-4cde-ee68-b3d91f4fbc53"
      },
      "execution_count": 15,
      "outputs": [
        {
          "output_type": "execute_result",
          "data": {
            "text/plain": [
              "<matplotlib.image.AxesImage at 0x7fee11b03f10>"
            ]
          },
          "metadata": {},
          "execution_count": 15
        },
        {
          "output_type": "display_data",
          "data": {
            "text/plain": [
              "<Figure size 432x288 with 1 Axes>"
            ],
            "image/png": "[encoded data removed]"
          },
          "metadata": {
            "needs_background": "light"
          }
        }
      ]
    }
  ]
}