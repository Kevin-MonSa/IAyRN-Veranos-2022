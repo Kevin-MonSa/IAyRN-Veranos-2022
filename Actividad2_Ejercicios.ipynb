{
  "nbformat": 4,
  "nbformat_minor": 0,
  "metadata": {
    "colab": {
      "name": "Actividad2 Ejercicios.ipynb",
      "provenance": [],
      "authorship_tag": "ABX9TyMfxfq4OE1RSIT5sf3LLb6i",
      "include_colab_link": true
    },
    "kernelspec": {
      "name": "python3",
      "display_name": "Python 3"
    },
    "language_info": {
      "name": "python"
    }
  },
  "cells": [
    {
      "cell_type": "markdown",
      "metadata": {
        "id": "view-in-github",
        "colab_type": "text"
      },
      "source": [
        "<a href=\"https://colab.research.google.com/github/Kevin-MonSa/IAyRN-Veranos-2022/blob/main/Actividad2_Ejercicios.ipynb\" target=\"_parent\"><img src=\"https://colab.research.google.com/assets/colab-badge.svg\" alt=\"Open In Colab\"/></a>"
      ]
    },
    {
      "cell_type": "markdown",
      "source": [
        "# Actividad.-2 Ejercicios en Python.\n",
        "**Kevin Montaño Sánchez 1992332 V4**"
      ],
      "metadata": {
        "id": "c3FKmq7nbd7e"
      }
    },
    {
      "cell_type": "code",
      "execution_count": null,
      "metadata": {
        "colab": {
          "base_uri": "https://localhost:8080/"
        },
        "outputId": "fd4c8725-e19b-4cab-f548-5a7bec94438a",
        "id": "lBpZyuYcpNqD"
      },
      "outputs": [
        {
          "output_type": "stream",
          "name": "stdout",
          "text": [
            "Hola, ¿Como te llamas? Ana\n",
            "No te puedo saludar\n"
          ]
        }
      ],
      "source": [
        "\"\"\"Ejercicio 1 \n",
        "Escribe un programa que le pida al usuario por su nombre y que lo salude con su nombre, excepto si se llama “Ana”, “Juan”, y “Pedro”.\"\"\"\n",
        "\n",
        "Nombre = input(\"Hola, ¿Como te llamas? \")\n",
        "if Nombre == \"Ana\" or Nombre==\"Juan\" or Nombre==\"Pedro\": #Con este if definimos que si el dato ingerasado coincide con alguno de los encritos ateriormente no te podra saludar\n",
        "  print(\"No te puedo saludar\")\n",
        "else:\n",
        "  print(\"Hola \" + Nombre)"
      ]
    },
    {
      "cell_type": "code",
      "source": [
        "def funcion(lista):\n",
        "  print(lista[-1])\n",
        "  print(lista[::-1])\n"
      ],
      "metadata": {
        "id": "9wRTP3_luboh"
      },
      "execution_count": 4,
      "outputs": []
    },
    {
      "cell_type": "code",
      "source": [
        "\"\"\" Ejercicio 2.\n",
        "Escribe una función que regrese el último elemento de una lista y que revierta el orden de la lista e imprima la lista revertida.\"\"\"\n",
        "Lista = input(\"Ingresa la lista, separa cada componente por un espacio: \")\n",
        "Salida = Lista.split() #Split separa la cadena por cada espacio.\n",
        "funcion(Salida)"
      ],
      "metadata": {
        "colab": {
          "base_uri": "https://localhost:8080/"
        },
        "id": "YvbX-IRxvPl8",
        "outputId": "26b0b0b1-a642-4760-fa9b-68f7158ad629"
      },
      "execution_count": 20,
      "outputs": [
        {
          "output_type": "stream",
          "name": "stdout",
          "text": [
            "Ingresa la lista, separa cada componente por un espacio: Manzana Banana Naranja Piña Nuez\n",
            "Nuez\n",
            "['Nuez', 'Piña', 'Naranja', 'Banana', 'Manzana']\n"
          ]
        }
      ]
    },
    {
      "cell_type": "code",
      "source": [
        "def ejerc3(lalista):\n",
        "  for i in range(Caracteres):\n",
        "    TamañoCaract = len(Salida[i]) #Calculamos num caracteres por palabra\n",
        "    NoEspacios = 8-TamañoCaract #Calculamos el numero de espacios por palabra\n",
        "    Espacios = (\" \") * NoEspacios #Hacemos la template de espacios\n",
        "    print(\"*\",Salida[i],Espacios,\"*\")\n"
      ],
      "metadata": {
        "id": "fh3-M4cZUhS1"
      },
      "execution_count": 17,
      "outputs": []
    },
    {
      "cell_type": "code",
      "source": [
        "\"\"\" Ejercicio 3.-\n",
        "Escribe una función que toma una lista de strings y los imprima línea por línea en un marco rectangular.\n",
        "Por ejemplo, la lista [“Hola”, “a”, “todos”, “esto”, “es”, “un”, “marco”] se imprime:\"\"\"\n",
        "\n",
        "LaLista = input(\"Ingresa la lista, separa cada componente por un espacio: \")\n",
        "Salida = LaLista.split() #Split separa la cadena por cada espacio.\n",
        "Caracteres = len(Salida)\n",
        "print(\"*************\")\n",
        "ejerc3(Caracteres)\n",
        "print(\"*************\")"
      ],
      "metadata": {
        "colab": {
          "base_uri": "https://localhost:8080/"
        },
        "id": "ECVCRqHjVok3",
        "outputId": "95d1c9cb-1324-4676-c15e-0cf88c9785ea"
      },
      "execution_count": 21,
      "outputs": [
        {
          "output_type": "stream",
          "name": "stdout",
          "text": [
            "Ingresa la lista, separa cada componente por un espacio: Hola a todos esto es un texto dentro de un marco\n",
            "*************\n",
            "* Hola      *\n",
            "* a         *\n",
            "* todos     *\n",
            "* esto      *\n",
            "* es        *\n",
            "* un        *\n",
            "* texto     *\n",
            "* dentro    *\n",
            "* de        *\n",
            "* un        *\n",
            "* marco     *\n",
            "*************\n"
          ]
        }
      ]
    }
  ]
}